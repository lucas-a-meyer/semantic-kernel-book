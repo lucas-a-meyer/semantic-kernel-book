{
 "cells": [
  {
   "cell_type": "code",
   "execution_count": 1,
   "metadata": {
    "dotnet_interactive": {
     "language": "csharp"
    },
    "polyglot_notebook": {
     "kernelName": "csharp"
    }
   },
   "outputs": [],
   "source": [
    "import semantic_kernel as sk\n",
    "import os\n",
    "from dotenv import load_dotenv\n",
    "from semantic_kernel.connectors.ai.open_ai import AzureChatCompletion\n",
    "from semantic_kernel import PromptTemplateConfig, PromptTemplate, SemanticFunctionConfig"
   ]
  },
  {
   "cell_type": "code",
   "execution_count": 39,
   "metadata": {},
   "outputs": [],
   "source": [
    "\n",
    "load_dotenv()\n",
    "OPENAI_ENDPOINT = os.getenv(\"OPENAI_USEAST3_ENDPOINT\")\n",
    "OPENAI_API_KEY = os.getenv(\"OPENAI_USEAST3_API_KEY\")\n",
    "\n"
   ]
  },
  {
   "cell_type": "code",
   "execution_count": 40,
   "metadata": {},
   "outputs": [
    {
     "data": {
      "text/plain": [
       "<semantic_kernel.kernel.Kernel at 0x207b457ce90>"
      ]
     },
     "execution_count": 40,
     "metadata": {},
     "output_type": "execute_result"
    }
   ],
   "source": [
    "kernel = sk.Kernel()\n",
    "\n",
    "\n",
    "gpt35 = AzureChatCompletion(deployment_name=\"gpt-35-turbo\", # yours may be different\n",
    "                            endpoint=OPENAI_ENDPOINT,\n",
    "                            api_key=OPENAI_API_KEY)\n",
    "\n",
    "gpt4 = AzureChatCompletion(deployment_name=\"gpt-4\", # yours may be different\n",
    "                            endpoint=OPENAI_ENDPOINT,\n",
    "                            api_key=OPENAI_API_KEY)\n",
    "\n",
    "kernel.add_chat_service(\"gpt35\", gpt35)\n",
    "kernel.add_chat_service(\"gpt4\", gpt4)\n",
    "\n"
   ]
  },
  {
   "cell_type": "code",
   "execution_count": 41,
   "metadata": {},
   "outputs": [],
   "source": [
    "prompt = \"\"\"knock, knock? Who’s there? {{$input}}. {{$input}} who?\"\"\"\n",
    "\n",
    "knock = kernel.create_semantic_function(prompt, temperature=0.8)\n",
    "\n",
    "response = knock(\"Dishes\")\n",
    "\n"
   ]
  },
  {
   "cell_type": "code",
   "execution_count": 42,
   "metadata": {},
   "outputs": [
    {
     "name": "stdout",
     "output_type": "stream",
     "text": [
      "Dishes me, the dishes won't wash themselves!\n"
     ]
    }
   ],
   "source": [
    "print(response)"
   ]
  },
  {
   "cell_type": "code",
   "execution_count": 43,
   "metadata": {},
   "outputs": [],
   "source": [
    "jokes_plugin = kernel.import_semantic_skill_from_directory(\"plugins\", \"jokes\")\n"
   ]
  },
  {
   "cell_type": "code",
   "execution_count": 44,
   "metadata": {},
   "outputs": [
    {
     "name": "stdout",
     "output_type": "stream",
     "text": [
      "Dishes the police, open up!\n"
     ]
    }
   ],
   "source": [
    "response = jokes_plugin[\"knock_knock_joke\"](\"Dishes\")\n",
    "print(response)"
   ]
  },
  {
   "cell_type": "code",
   "execution_count": 47,
   "metadata": {},
   "outputs": [
    {
     "name": "stdout",
     "output_type": "stream",
     "text": [
      "Because it wanted to split from its current path!\n"
     ]
    }
   ],
   "source": [
    "response = jokes_plugin[\"cross_the_road_joke\"](\"Atom\")\n",
    "print(response)"
   ]
  },
  {
   "cell_type": "code",
   "execution_count": null,
   "metadata": {},
   "outputs": [],
   "source": []
  }
 ],
 "metadata": {
  "kernelspec": {
   "display_name": ".venv",
   "language": "python",
   "name": "python3"
  },
  "language_info": {
   "codemirror_mode": {
    "name": "ipython",
    "version": 3
   },
   "file_extension": ".py",
   "mimetype": "text/x-python",
   "name": "python",
   "nbconvert_exporter": "python",
   "pygments_lexer": "ipython3",
   "version": "3.11.4"
  },
  "orig_nbformat": 4,
  "polyglot_notebook": {
   "kernelInfo": {
    "defaultKernelName": "csharp",
    "items": [
     {
      "aliases": [],
      "name": "csharp"
     }
    ]
   }
  }
 },
 "nbformat": 4,
 "nbformat_minor": 2
}
